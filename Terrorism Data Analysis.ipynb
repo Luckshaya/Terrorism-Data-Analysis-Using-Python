{
 "cells": [
  {
   "cell_type": "markdown",
   "id": "33d805a9",
   "metadata": {},
   "source": [
    "## TERRORISM DATA ANALYSIS"
   ]
  },
  {
   "cell_type": "markdown",
   "id": "a7f20f1c",
   "metadata": {},
   "source": [
    "ABOUT DATASET:\n",
    "\n",
    "Given file \"terrorismData.csv\"\n",
    "\n",
    "It is an open-source database including information on terrorist attacks around the world from 1970 through 2017. This dataset includes systematic data on domestic as well as international terrorist incidents that have occurred during this time period"
   ]
  },
  {
   "cell_type": "markdown",
   "id": "c01ab019",
   "metadata": {},
   "source": [
    "TABLE OF CONTENTS\n",
    "\n",
    "•\tQ1 : Print first three lines.\n",
    "\n",
    "•\tQ2 : Print all column names.\n",
    "\n",
    "•\tQ3 : Print the country names from first 10 rows (in different lines).\n",
    "\n",
    "•\tQ4 : Find and Print the total number of Wounded people. Print the count as    integer value.\n",
    "\n",
    "•\tQ5 : Find and print the total number of wounded people who are from country \"India\". Print the count as integer value.\n",
    "\n",
    "•\tQ6 : Find the number of attack held between day 10 and day 20?(ignoring the year and month)(including both day) Print count of NumberOFAttack as integer value.\n",
    "\n",
    "•\tQ7 : Find the number of attack held between 1 Jan 2010 and 31 Jan 2010?(including both date). Note Ignore the case where day is 0 Print count of NumberOFAttack as integer value.\n",
    "\n",
    "•\tQ8 : As we knew the Kargil ( in Jammu and Kashmir) War that took place between May 1999 and July 1999 (3 Months) ,so there was a huge conflict in Kashmir Valley during this period. In this dataset, there is no information regarding the war between the two countries to find out the casualty during the war. So find out the attack in this period in which maximum casualties happened. Print the count of casualties (as integer), city in which that attack happened and name of attack group.\n",
    "\n",
    "•\tQ9 : ind the casualty in the Red Corridor States ? Mainly Red corridor states include Jharkhand, Odisha, Andhra Pradesh, and Chhattisgarh.Print count of Casualty as integer value. Note: Casualty=Killed +Wounded.\n",
    "\n",
    "•\tQ10 : Find top 5 Indian Cities which has most number of casualties ? Print top 5 cities along with total casualties in that city. Print count of Casualty as integer value. Note: Ignoring the City which is Unknown.\n",
    "\n",
    "•\tQ11 : Find the most frequent day of attack in a terrorismDataset ? Note: Here np.unique can be used. Print count of frequent day and number of attack as Integer value.\n",
    "\n",
    "•\tQ12 : The Most Dangerous city in Jammu and Kashmir and the terrorist group which is most active in that city? Print count of number of attacks in that city as integer value. Note:Ignoring the Unknown Terrorist Group.Here Dangerous related with the number of terrorist attacks.\n",
    "\n",
    "•\tQ13 : There was formation of new government in India on 26 May 2014. So current government's span is from 26th May 2014 to current. Find out two things from this period- \n",
    "          A) Total number of attacks done in this period in India. Find this count as integer. \n",
    "          B) Which Terrorist group was most active in this period in India. Most active means, group which has done maximum number of attacks.\n",
    "          Ignore the Unknown group.\n",
    "\n",
    "•\tQ14 : Find the frequency of the Casualty in Red Corridor states and in Jammu and Kashmir ?Here Frequency is (Total Casualty/Total Number of a year) Print frequency as integer value. Note:Red Corridor state includes Jharkhand, Odisha, Andhra Pradesh, and Chhattisgarh. Here Casualty=Killed +Wounded.Don't fill the nan value present in Killed and Wounded feature.\n",
    "\n",
    "•\tQ15 : Most Deadliest attack in a history of HumanKind? Print count of Killed people as integer value. Note: Here Deadliest attack means, in which the most number of people killed.\n",
    "\n",
    "•\tQ16 : Find out the Country with Highest Number of Terror Attack and in which year the most number of terrorist attack happened in that country ? Print count of terror attacks as integer value.\n"
   ]
  },
  {
   "cell_type": "markdown",
   "id": "413f28ae",
   "metadata": {},
   "source": [
    "Importing required files and libraries"
   ]
  },
  {
   "cell_type": "code",
   "execution_count": 59,
   "id": "fadea6e8",
   "metadata": {},
   "outputs": [],
   "source": [
    "import numpy as np\n",
    "import pandas as pd\n",
    "import csv"
   ]
  },
  {
   "cell_type": "markdown",
   "id": "0ac261b1",
   "metadata": {},
   "source": [
    "Q1 : Print first three lines"
   ]
  },
  {
   "cell_type": "code",
   "execution_count": 45,
   "id": "51d0ea58",
   "metadata": {},
   "outputs": [
    {
     "name": "stdout",
     "output_type": "stream",
     "text": [
      "1970 7 2 Dominican Republic  Central America & Caribbean Santo Domingo 18.456792 -69.951164 Assassination 1.0 0.0 Julio Guzman  MANO-D Private Citizens & Property Unknown\n",
      "1970 0 0 Mexico Federal North America Mexico city 19.371887 -99.086624 Hostage Taking (Kidnapping) 0.0 0.0 Nadine Chaval, daughter  23rd of September Communist League Government (Diplomatic) Unknown\n",
      "1970 1 0 Philippines Tarlac Southeast Asia Unknown 15.478598000000002 120.599741 Assassination 1.0 0.0 Employee  Unknown Journalists & Media Unknown\n"
     ]
    }
   ],
   "source": [
    "with open(\"terrorismData.csv\") as file_obj:\n",
    "    file_data = csv.reader(file_obj)\n",
    "    next(file_data)  # Skip the header row\n",
    "\n",
    "    # Print the first 3 rows\n",
    "    for _ in range(3):\n",
    "        row = next(file_data)\n",
    "        print(\" \".join(row))"
   ]
  },
  {
   "cell_type": "markdown",
   "id": "7e819291",
   "metadata": {},
   "source": [
    "Q2 : Print all column names"
   ]
  },
  {
   "cell_type": "code",
   "execution_count": 46,
   "id": "00bb1877",
   "metadata": {},
   "outputs": [
    {
     "name": "stdout",
     "output_type": "stream",
     "text": [
      "Year\n",
      "Month\n",
      "Day\n",
      "Country\n",
      "State\n",
      "Region\n",
      "City\n",
      "Latitude\n",
      "Longitude\n",
      "AttackType\n",
      "Killed\n",
      "Wounded\n",
      "Target\n",
      "Summary\n",
      "Group\n",
      "Target_type\n",
      "Weapon_type\n"
     ]
    }
   ],
   "source": [
    "with open('terrorismData.csv','r') as file_obj:\n",
    "    file_data = csv.reader(file_obj)\n",
    "    file_data1 = next(file_data)\n",
    "    for header in file_data1:\n",
    "        print(header)"
   ]
  },
  {
   "cell_type": "markdown",
   "id": "38aa1321",
   "metadata": {},
   "source": [
    "Q3 : Print the country names from first 10 rows (in different lines)"
   ]
  },
  {
   "cell_type": "code",
   "execution_count": 48,
   "id": "156f2809",
   "metadata": {},
   "outputs": [
    {
     "name": "stdout",
     "output_type": "stream",
     "text": [
      "Dominican Republic\n",
      "Mexico\n",
      "Philippines\n",
      "Greece\n",
      "Japan\n",
      "United States\n",
      "Uruguay\n",
      "United States\n",
      "United States\n",
      "United States\n"
     ]
    }
   ],
   "source": [
    "with open(\"terrorismData.csv\",\"r\")as file_obj:\n",
    "    file_data= csv.DictReader(file_obj,skipinitialspace=True)\n",
    "    count = 0\n",
    "    for row in file_data:\n",
    "        print(row['Country'])\n",
    "        \n",
    "        count+= 1\n",
    "        \n",
    "        if count >=10:\n",
    "            break"
   ]
  },
  {
   "cell_type": "markdown",
   "id": "e0681670",
   "metadata": {},
   "source": [
    "Q4 : Find and Print the total number of Wounded people. Print the count as integer value."
   ]
  },
  {
   "cell_type": "code",
   "execution_count": 64,
   "id": "c1c57843",
   "metadata": {},
   "outputs": [
    {
     "name": "stdout",
     "output_type": "stream",
     "text": [
      "411868\n"
     ]
    }
   ],
   "source": [
    "with open('terrorismData.csv','r',encoding=\"utf-8\") as file_obj:\n",
    "    file_data = csv.reader(file_obj,skipinitialspace = True)\n",
    "    file_list = list(file_data)\n",
    "    \n",
    "wounded = []\n",
    "for row in file_list[1:]:\n",
    "    value = row[10]\n",
    "    if value !='':\n",
    "        wounded.append(float(value))\n",
    "\n",
    "print(int(sum(wounded)))"
   ]
  },
  {
   "cell_type": "markdown",
   "id": "4a8edb15",
   "metadata": {},
   "source": [
    "Q5 : Find and print the total number of wounded people who are from country \"India\".\n",
    "Print the count as integer value."
   ]
  },
  {
   "cell_type": "code",
   "execution_count": 68,
   "id": "b5b1b20a",
   "metadata": {},
   "outputs": [
    {
     "name": "stdout",
     "output_type": "stream",
     "text": [
      "28980\n"
     ]
    }
   ],
   "source": [
    "with open('terrorismData.csv','r',encoding=\"utf-8\") as file_obj:\n",
    "    file_list = list(csv.DictReader(file_obj, delimiter = ',', skipinitialspace = True))\n",
    "    \n",
    "country_wounded = {}\n",
    "for row in file_list:\n",
    "    key=row['Country']\n",
    "    value=row['Wounded']\n",
    "    if value != '': \n",
    "        value = int(float(value))\n",
    "    else:\n",
    "        value = 0\n",
    "    country_wounded[key] = country_wounded.get(key,0) + value\n",
    "    \n",
    "print(country_wounded['India'])"
   ]
  },
  {
   "cell_type": "markdown",
   "id": "e9235783",
   "metadata": {},
   "source": [
    "Q6 : Find the number of attack held between day 10 and day 20?(ignoring the year and month)(including both day)\n",
    "Print count of NumberOFAttack as integer value."
   ]
  },
  {
   "cell_type": "code",
   "execution_count": 62,
   "id": "207a6dcf",
   "metadata": {},
   "outputs": [
    {
     "name": "stdout",
     "output_type": "stream",
     "text": [
      "66330\n"
     ]
    }
   ],
   "source": [
    "File_obj = open('terrorismData.csv','r',encoding=\"utf-8\")\n",
    "data = csv.DictReader(File_obj,skipinitialspace = True)\n",
    "\n",
    "day = []\n",
    "for row in data:\n",
    "    day.append(row['Day'])\n",
    "np_day = np.array(day)\n",
    "np_day = np.array(np_day,dtype = int)\n",
    "ans = np_day[(np_day >= 10)&(np_day <=20)]\n",
    "print(len(ans))"
   ]
  },
  {
   "cell_type": "markdown",
   "id": "5b43e544",
   "metadata": {},
   "source": [
    "Q7 : Find the number of attack held between 1 Jan 2010 and 31 Jan 2010?(including both date).\n",
    "Note Ignore the case where day is 0\n",
    "Print count of NumberOFAttack as integer value."
   ]
  },
  {
   "cell_type": "code",
   "execution_count": 78,
   "id": "2b7ac06b",
   "metadata": {},
   "outputs": [
    {
     "name": "stdout",
     "output_type": "stream",
     "text": [
      "271\n"
     ]
    }
   ],
   "source": [
    "File_obj = open('terrorismData.csv','r',encoding=\"utf-8\")\n",
    "data = csv.DictReader(File_obj,skipinitialspace = True)\n",
    "\n",
    "Month = []\n",
    "Year = []\n",
    "Day = []\n",
    "for row in data:\n",
    "    Month.append(row['Month'])\n",
    "    Year.append(row['Year'])\n",
    "    Day.append(row['Day'])\n",
    "\n",
    "np_Month = np.array(Month)\n",
    "np_Year = np.array(Year)\n",
    "np_Day = np.array(Day, dtype = float)\n",
    "np_Day = np.array(Day, dtype = int)\n",
    "\n",
    "\n",
    "np_Day=np_Day[(np_Month =='1') & (np_Year =='2010')]\n",
    "\n",
    "np_Day = np_Day[(np_Day >=1) & (np_Day <=31)]\n",
    "\n",
    "print(len(np_Day[np_Day!=0]))"
   ]
  },
  {
   "cell_type": "markdown",
   "id": "90542d03",
   "metadata": {},
   "source": [
    "Q8 : As we knew the Kargil ( in Jammu and Kashmir) War that took place between May 1999 and July 1999 (3 Months) ,so there was a huge conflict in Kashmir Valley during this period.\n",
    "In this dataset, there is no information regarding the war between the two countries to find out the casualty during the war.\n",
    "So find out the attack in this period in which maximum casualties happened.\n",
    "Print the count of casualties (as integer), city in which that attack happened and name of attack group."
   ]
  },
  {
   "cell_type": "code",
   "execution_count": 79,
   "id": "88b97a3d",
   "metadata": {},
   "outputs": [
    {
     "name": "stdout",
     "output_type": "stream",
     "text": [
      "22 Kargil District Separatists\n"
     ]
    }
   ],
   "source": [
    "max_casualty = 0\n",
    "max_casualty_city = ''\n",
    "max_casualty_group = ''\n",
    "\n",
    "with open('terrorismData.csv', 'r', encoding='utf-8') as file:\n",
    "    file_obj = csv.DictReader(file, skipinitialspace=False)\n",
    "\n",
    "    killed = []\n",
    "    wounded = []\n",
    "    city = []\n",
    "    group = []\n",
    "\n",
    "    for row in file_obj:\n",
    "        if \"1999\" in row[\"Year\"] and row[\"Month\"] in [\"5\", \"6\", \"7\"]:\n",
    "            if row[\"City\"] != \"Unknown\" and row[\"Group\"] != \"Unknown\" and \"Jammu and Kashmir\" in row[\"State\"]:\n",
    "                killed_val = float(row[\"Killed\"]) if row[\"Killed\"] else 0.0\n",
    "                wounded_val = float(row[\"Wounded\"]) if row[\"Wounded\"] else 0.0\n",
    "\n",
    "                killed.append(killed_val)\n",
    "                wounded.append(wounded_val)\n",
    "                city.append(row[\"City\"])\n",
    "                group.append(row[\"Group\"])\n",
    "\n",
    "    casualties = np.array(killed) + np.array(wounded)\n",
    "\n",
    "    max_casualty = int(np.max(casualties))\n",
    "    max_casualty_arg = np.argmax(casualties)\n",
    "\n",
    "    max_casualty_city = city[max_casualty_arg]\n",
    "    max_casualty_group = group[max_casualty_arg]\n",
    "\n",
    "print(max_casualty, max_casualty_city, max_casualty_group)"
   ]
  },
  {
   "cell_type": "markdown",
   "id": "6c131a06",
   "metadata": {},
   "source": [
    "Q9 : ind the casualty in the Red Corridor States ? Mainly Red corridor states include Jharkhand, Odisha, Andhra Pradesh, and Chhattisgarh.Print count of Casualty as integer value.\n",
    "Note: Casualty=Killed +Wounded"
   ]
  },
  {
   "cell_type": "code",
   "execution_count": 80,
   "id": "80e23c89",
   "metadata": {},
   "outputs": [
    {
     "name": "stdout",
     "output_type": "stream",
     "text": [
      "5628\n"
     ]
    }
   ],
   "source": [
    "with open(\"terrorismData.csv\", encoding=\"utf8\") as file_obj:\n",
    "    file_data = csv.DictReader(file_obj, skipinitialspace=True)\n",
    "    \n",
    "    killed = []\n",
    "    wounded = []\n",
    "\n",
    "    red_corridor_states = ['Jharkhand', 'Odisha', 'Chhattisgarh', 'Andhra Pradesh']\n",
    "\n",
    "    for row in file_data:\n",
    "        if row['State'].strip() in red_corridor_states:\n",
    "            killed_value = row['Killed'].strip()\n",
    "            wounded_value = row['Wounded'].strip()\n",
    "            \n",
    "            # Replace empty strings with '0'\n",
    "            if not killed_value:\n",
    "                killed_value = '0'\n",
    "            if not wounded_value:\n",
    "                wounded_value = '0'\n",
    "\n",
    "            killed.append(float(killed_value))\n",
    "            wounded.append(float(wounded_value))\n",
    "\n",
    "    np_killed = np.array(killed, dtype=float)\n",
    "    np_wounded = np.array(wounded, dtype=float)\n",
    "\n",
    "    casualties = np_killed + np_wounded\n",
    "    total_casualties = int(np.sum(casualties))\n",
    "\n",
    "    print(total_casualties)"
   ]
  },
  {
   "cell_type": "markdown",
   "id": "da52efa1",
   "metadata": {},
   "source": [
    "Q10 : Find top 5 Indian Cities which has most number of casualties ?\n",
    "Print top 5 cities along with total casualties in that city. Print count of Casualty as integer value.\n",
    "Note: Ignoring the City which is Unknown."
   ]
  },
  {
   "cell_type": "code",
   "execution_count": 87,
   "id": "b8fa9cbb",
   "metadata": {},
   "outputs": [
    {
     "name": "stdout",
     "output_type": "stream",
     "text": [
      "Srinagar 3134\n",
      "New Delhi 2095\n",
      "Mumbai 2016\n",
      "Jammu 1119\n",
      "Guwahati 822\n"
     ]
    }
   ],
   "source": [
    "with open('terrorismData.csv', encoding='utf8') as file_obj:\n",
    "    file_data=csv.DictReader(file_obj, skipinitialspace=True)\n",
    "    killed=[]\n",
    "    wounded=[]\n",
    "    city=[]\n",
    "    for row in file_data:\n",
    "        if 'India' in row['Country'] and 'Unknown' not in row['City']:\n",
    "            city.append(row['City'])\n",
    "            wounded.append(row['Wounded'])\n",
    "            killed.append(row['Killed'])\n",
    "    np_wounded=np.array(wounded)\n",
    "    np_killed=np.array(killed)\n",
    "    np_city=np.array(city)\n",
    "    \n",
    "    np_killed[np_killed=='']='0.0'\n",
    "    np_wounded[np_wounded=='']='0.0'\n",
    "    np_killed=np.array(np_killed, dtype='float')\n",
    "    np_wounded=np.array(np_wounded, dtype='float')\n",
    "    np_casuality=np.array(np_wounded+np_killed, dtype='int')\n",
    "    city_casualties = zip(np_city, np_casuality)\n",
    "\n",
    "    \n",
    "    \n",
    "    citydic = {}\n",
    "\n",
    "for city, casualties in city_casualties:\n",
    "    if city in citydic:\n",
    "        citydic[city] += casualties\n",
    "    else:\n",
    "        citydic[city] = casualties\n",
    "\n",
    "for _ in range(5):\n",
    "    city, count = max(citydic.items(), key=lambda x: x[1])\n",
    "    print(city, count)\n",
    "    del citydic[city]"
   ]
  },
  {
   "cell_type": "markdown",
   "id": "2ec02d4b",
   "metadata": {},
   "source": [
    "Q11 : Find the most frequent day of attack in a terrorismDataset ?\n",
    "Note: Here np.unique can be used.\n",
    "Print count of frequent day and number of attack as Integer value."
   ]
  },
  {
   "cell_type": "code",
   "execution_count": 89,
   "id": "c299efe3",
   "metadata": {},
   "outputs": [
    {
     "name": "stdout",
     "output_type": "stream",
     "text": [
      "15 6500\n"
     ]
    }
   ],
   "source": [
    "file_obj = open('terrorismData.csv',encoding='utf8')\n",
    "data = csv.DictReader(file_obj, skipinitialspace = True)\n",
    "\n",
    "days = []\n",
    "\n",
    "\n",
    "for row in data:\n",
    "    days.append(row['Day'])\n",
    "    \n",
    "np_day = np.array(days)\n",
    "# Use np.unique to get unique days and their counts\n",
    "unique_days, counts = np.unique(np_day, return_counts=True)\n",
    "\n",
    "# Find the index of the most frequent day\n",
    "most_frequent_index = np.argmax(counts)\n",
    "\n",
    "# Get the most frequent day and its count\n",
    "most_frequent_day = unique_days[most_frequent_index]\n",
    "number_of_attacks = counts[most_frequent_index]\n",
    "\n",
    "# Print the result\n",
    "print(f\"{most_frequent_day} {number_of_attacks}\")"
   ]
  },
  {
   "cell_type": "markdown",
   "id": "c067bad8",
   "metadata": {},
   "source": [
    "Q12 : The Most Dangerous city in Jammu and Kashmir and the terrorist group which is most active in that city?\n",
    "Print count of number of attacks in that city as integer value.\n",
    "Note:Ignoring the Unknown Terrorist Group.Here Dangerous related with the number of terrorist attacks."
   ]
  },
  {
   "cell_type": "code",
   "execution_count": 90,
   "id": "923f64f4",
   "metadata": {},
   "outputs": [
    {
     "name": "stdout",
     "output_type": "stream",
     "text": [
      "Srinagar 657 Muslim Separatists\n"
     ]
    }
   ],
   "source": [
    "path='terrorismData.csv'\n",
    "df_terrorism=pd.read_csv(path,encoding='ISO-8859-1')\n",
    "df_terrorism=df_terrorism[df_terrorism['State']=='Jammu and Kashmir']\n",
    "city_list=df_terrorism['City'].value_counts()\n",
    "city=city_list.index[0]\n",
    "attack=city_list.values[0]\n",
    "df_terrorism=df_terrorism[df_terrorism['City']==city]\n",
    "group=df_terrorism['Group'].value_counts().index[1]\n",
    "print(city,attack,group)"
   ]
  },
  {
   "cell_type": "markdown",
   "id": "b78ef611",
   "metadata": {},
   "source": [
    "Q13 : There was formation of new government in India on 26 May 2014. So current government's span is from 26th May 2014 to current. Find out two things from this period-\n",
    "1. Total number of attacks done in this period in India. Find this count as integer.\n",
    "2. Which Terrorist group was most active in this period in India. Most active means, group which has done maximum number of attacks. \n",
    "3.Ignore the Unknown group. "
   ]
  },
  {
   "cell_type": "code",
   "execution_count": 91,
   "id": "f4988a73",
   "metadata": {},
   "outputs": [
    {
     "name": "stdout",
     "output_type": "stream",
     "text": [
      "3336 Maoists\n"
     ]
    },
    {
     "name": "stderr",
     "output_type": "stream",
     "text": [
      "C:\\Users\\Luckshaya Kem\\AppData\\Local\\Temp\\ipykernel_17452\\74955651.py:7: UserWarning: Boolean Series key will be reindexed to match DataFrame index.\n",
      "  b = a[df.Month == 5]\n",
      "C:\\Users\\Luckshaya Kem\\AppData\\Local\\Temp\\ipykernel_17452\\74955651.py:8: UserWarning: Boolean Series key will be reindexed to match DataFrame index.\n",
      "  c = b[df.Year == 2014]\n",
      "C:\\Users\\Luckshaya Kem\\AppData\\Local\\Temp\\ipykernel_17452\\74955651.py:13: UserWarning: Boolean Series key will be reindexed to match DataFrame index.\n",
      "  e = d[df.Year == 2014]\n"
     ]
    }
   ],
   "source": [
    "td = pd.read_csv(\"terrorismData.csv\")\n",
    "df = td.copy()\n",
    "\n",
    "df = df[df.Country == \"India\"]\n",
    "\n",
    "a = df[df.Day>=26]\n",
    "b = a[df.Month == 5]\n",
    "c = b[df.Year == 2014]\n",
    "\n",
    "ans1 = c.shape[0]\n",
    "\n",
    "d = df[df.Month > 5]\n",
    "e = d[df.Year == 2014]\n",
    "ans2 = e.shape[0]\n",
    "\n",
    "\n",
    "f = df[df.Year > 2014]\n",
    "ans3 = f.shape[0]\n",
    "\n",
    "print(ans1 + ans2 + ans3,end=\" \")\n",
    "\n",
    "df = df[df.Year>2014]\n",
    "df = df[df.Group != \"Unknown\"]\n",
    "group = df.Group.describe().top\n",
    "\n",
    "print(group)"
   ]
  },
  {
   "cell_type": "markdown",
   "id": "2d9ceb4f",
   "metadata": {},
   "source": [
    "Q14 : Find the frequency of the Casualty in Red Corridor states and in Jammu and Kashmir ?Here Frequency is (Total Casualty/Total Number of a year)\n",
    "Print frequency as integer value.\n",
    "Note:Red Corridor state includes Jharkhand, Odisha, Andhra Pradesh, and Chhattisgarh. Here Casualty=Killed +Wounded.Don't fill the nan value present in Killed and Wounded feature."
   ]
  },
  {
   "cell_type": "code",
   "execution_count": 97,
   "id": "bee3628a",
   "metadata": {},
   "outputs": [
    {
     "name": "stdout",
     "output_type": "stream",
     "text": [
      "170 395\n"
     ]
    }
   ],
   "source": [
    "df = pd.read_csv(\"terrorismData.csv\")\n",
    "\n",
    "red_corridor_states = [\"Jharkhand\", \"Odisha\", \"Andhra Pradesh\", \"Chhattisgarh\"]\n",
    "df = df[df[\"State\"].isin(red_corridor_states + [\"Jammu and Kashmir\"])]\n",
    "\n",
    "df[\"Casualty\"] = df[\"Killed\"] + df[\"Wounded\"]\n",
    "df_red = df.loc[df[\"State\"].isin(red_corridor_states)]\n",
    "df_jk = df.loc[df[\"State\"] == \"Jammu and Kashmir\"]\n",
    "\n",
    "df_red = df_red.groupby(\"Year\")[\"Casualty\"].sum()\n",
    "df_jk = df_jk.groupby(\"Year\")[\"Casualty\"].sum()\n",
    "\n",
    "frequency_red = df_red.sum() / len(df_red)\n",
    "frequency_jk = df_jk.sum() / len(df_jk)\n",
    "print(int(frequency_red), int(frequency_jk))"
   ]
  },
  {
   "cell_type": "markdown",
   "id": "8ba58784",
   "metadata": {},
   "source": [
    "Q15 : Most Deadliest attack in a history of HumanKind?\n",
    "Print count of Killed people as integer value.\n",
    "Note: Here Deadliest attack means, in which the most number of people killed."
   ]
  },
  {
   "cell_type": "code",
   "execution_count": 95,
   "id": "f784ce1d",
   "metadata": {},
   "outputs": [
    {
     "name": "stdout",
     "output_type": "stream",
     "text": [
      "1570 Iraq Islamic State of Iraq and the Levant (ISIL)\n"
     ]
    }
   ],
   "source": [
    "df = pd.read_csv(\"terrorismData.csv\")\n",
    "\n",
    "max_killed = df[\"Killed\"].max()\n",
    "row = df[df[\"Killed\"] == max_killed]\n",
    "country = row[\"Country\"].values[0]\n",
    "group = row[\"Group\"].values[0]\n",
    "\n",
    "print(int(max_killed), country, group)"
   ]
  },
  {
   "cell_type": "markdown",
   "id": "57447b67",
   "metadata": {},
   "source": [
    "Q16 : Find out the Country with Highest Number of Terror Attack and in which year the most number of terrorist attack happened in that country ?\n",
    "Print count of terror attacks as integer value."
   ]
  },
  {
   "cell_type": "code",
   "execution_count": 94,
   "id": "b636573d",
   "metadata": {},
   "outputs": [
    {
     "name": "stdout",
     "output_type": "stream",
     "text": [
      "Iraq 24636 2014\n"
     ]
    }
   ],
   "source": [
    "td=pd.read_csv('terrorismData.csv')\n",
    "df=td.copy()\n",
    "df=df[df.Country==df.Country.describe().top]\n",
    "count=df.shape[0]\n",
    "country=df.Country.describe().top\n",
    "y={}\n",
    "for i in df.Year:\n",
    "    if i in y.keys():\n",
    "        y[i]+=1\n",
    "    else:\n",
    "        y[i]=1\n",
    "cnt=0\n",
    "year=0\n",
    "for i in y.keys():\n",
    "    if cnt<y[i]:\n",
    "        cnt=y[i]\n",
    "        year=i\n",
    "print(country, count, year)"
   ]
  }
 ],
 "metadata": {
  "kernelspec": {
   "display_name": "Python 3 (ipykernel)",
   "language": "python",
   "name": "python3"
  },
  "language_info": {
   "codemirror_mode": {
    "name": "ipython",
    "version": 3
   },
   "file_extension": ".py",
   "mimetype": "text/x-python",
   "name": "python",
   "nbconvert_exporter": "python",
   "pygments_lexer": "ipython3",
   "version": "3.11.5"
  }
 },
 "nbformat": 4,
 "nbformat_minor": 5
}
